{
 "cells": [
  {
   "cell_type": "code",
   "execution_count": null,
   "metadata": {},
   "outputs": [],
   "source": [
    "import matplotlib\n",
    "%matplotlib inline\n",
    "import netCDF4\n",
    "import cartopy\n",
    "\n",
    "import numpy\n",
    "from matplotlib import pyplot"
   ]
  },
  {
   "cell_type": "code",
   "execution_count": null,
   "metadata": {},
   "outputs": [],
   "source": [
    "data = netCDF4.Dataset('/tmp/key/data/NATAL_MITGCM_1Y/ww3.20111115_cur.nc')\n",
    "#data = netCDF4.Dataset('/tmp/key/data/skim_at_output/AT_metop_2018_8a/WW3_AT_metop_2018_8a_L2C_c01_p058.nc')\n",
    "#data = netCDF4.Dataset('/mnt/data/project/skim/skim_output/TPAC_L2C/WW3_TPAC_8b60az_L2C_c01_p014.nc')\n",
    "#data = netCDF4.Dataset('/tmp/key/data/skim_at_output/WW3_AT_metop_2018_8a_c01_p299.nc')\n",
    "#data = netCDF4.Dataset('/mnt/data/project/skim/skim_output/natl60/WW3_23Wtest_8b60az_c01_p011.nc')\n",
    "lon = numpy.mod(data['longitude'][:] +180, 360) -180\n",
    "lat = data['latitude'][:]\n",
    "varu = data['ucur'][:, :]\n",
    "varv = data['vcur'][:, :]\n",
    "\n",
    "#var = data['uwb'][:]\n",
    "modelbox = (numpy.nanmin(lon), numpy.nanmax(lon), numpy.nanmin(lat), numpy.nanmax(lat))\n",
    "#cshape = numpy.shape(data['sigma0'][:])\n",
    "mask = ((abs(varu) > 10) | (abs(varv)>10))\n",
    "varu = numpy.ma.array(varu, mask=mask)\n",
    "varv = numpy.ma.array(varv, mask=mask)\n",
    "\n",
    "print(data.variables.keys(), modelbox)\n",
    "data.close()\n",
    "print(lat)"
   ]
  },
  {
   "cell_type": "code",
   "execution_count": null,
   "metadata": {},
   "outputs": [],
   "source": [
    "projection = cartopy.crs.PlateCarree()\n",
    "transform = cartopy.crs.PlateCarree()\n",
    "fig = pyplot.figure(figsize=(20,20))\n",
    "modelbox = [285, 295, 33, 37]\n",
    "\n",
    "ax = pyplot.axes(projection=projection)\n",
    "if modelbox is not None:\n",
    "    ax.set_extent([modelbox[0], modelbox[1],  modelbox[2], modelbox[3]],\n",
    "                      crs=transform)\n",
    "    norder = 15\n",
    "else:\n",
    "    ax.set_global()\n",
    "    norder = 1\n",
    "    #ax.add_feature(cartopy.feature.OCEAN, zorder=norder)\n",
    "ax.add_feature(cartopy.feature.LAND, zorder=norder, edgecolor='black', alpha=0.5)\n",
    "gl = ax.gridlines(crs=transform, draw_labels=True, color='gray',\n",
    "                   linestyle='--', alpha=0.5)\n",
    "gl.xlabels_top = False\n",
    "gl.ylabels_left = False\n",
    "normu = numpy.sqrt(varu**2 + varv**2)\n",
    "pyplot.pcolor(lon, lat, normu[0, :, ::], cmap = 'jet', vmin=0, vmax=2)\n",
    "pyplot.colorbar()"
   ]
  },
  {
   "cell_type": "code",
   "execution_count": null,
   "metadata": {},
   "outputs": [],
   "source": [
    "projection = cartopy.crs.PlateCarree()\n",
    "transform = cartopy.crs.PlateCarree()\n",
    "fig = pyplot.figure(figsize=(20,20))\n",
    "modelbox = [285, 295, 33, 37]\n",
    "\n",
    "ax = pyplot.axes(projection=projection)\n",
    "if modelbox is not None:\n",
    "    ax.set_extent([modelbox[0], modelbox[1],  modelbox[2], modelbox[3]],\n",
    "                      crs=transform)\n",
    "    norder = 15\n",
    "else:\n",
    "    ax.set_global()\n",
    "    norder = 1\n",
    "    #ax.add_feature(cartopy.feature.OCEAN, zorder=norder)\n",
    "ax.add_feature(cartopy.feature.LAND, zorder=norder, edgecolor='black', alpha=0.5)\n",
    "gl = ax.gridlines(crs=transform, draw_labels=True, color='gray',\n",
    "                   linestyle='--', alpha=0.5)\n",
    "gl.xlabels_top = False\n",
    "gl.ylabels_left = False\n",
    "normu = numpy.sqrt(varu**2 + varv**2)\n",
    "r=4\n",
    "pyplot.pcolor(lon[::r], lat[::r], varu[0, ::r, ::r], cmap = 'jet', vmin=-1.5, vmax=1.5)\n",
    "pyplot.colorbar()"
   ]
  },
  {
   "cell_type": "code",
   "execution_count": null,
   "metadata": {},
   "outputs": [],
   "source": [
    "projection = cartopy.crs.PlateCarree()\n",
    "transform = cartopy.crs.PlateCarree()\n",
    "fig = pyplot.figure(figsize=(20,20))\n",
    "modelbox = [285, 295, 33, 37]\n",
    "\n",
    "ax = pyplot.axes(projection=projection)\n",
    "if modelbox is not None:\n",
    "    ax.set_extent([modelbox[0], modelbox[1],  modelbox[2], modelbox[3]],\n",
    "                      crs=transform)\n",
    "    norder = 15\n",
    "else:\n",
    "    ax.set_global()\n",
    "    norder = 1\n",
    "    #ax.add_feature(cartopy.feature.OCEAN, zorder=norder)\n",
    "ax.add_feature(cartopy.feature.LAND, zorder=norder, edgecolor='black', alpha=0.5)\n",
    "gl = ax.gridlines(crs=transform, draw_labels=True, color='gray',\n",
    "                   linestyle='--', alpha=0.5)\n",
    "gl.xlabels_top = False\n",
    "gl.ylabels_left = False\n",
    "normu = numpy.sqrt(varu**2 + varv**2)\n",
    "r=4\n",
    "pyplot.pcolor(lon[::r], lat[::r], varv[0, ::r, ::r], cmap = 'jet', vmin=-1.5, vmax=1.5)\n",
    "pyplot.colorbar()"
   ]
  },
  {
   "cell_type": "code",
   "execution_count": null,
   "metadata": {},
   "outputs": [],
   "source": []
  },
  {
   "cell_type": "code",
   "execution_count": null,
   "metadata": {},
   "outputs": [],
   "source": [
    "print(lon[5, :])"
   ]
  },
  {
   "cell_type": "code",
   "execution_count": null,
   "metadata": {},
   "outputs": [],
   "source": [
    "53/2\n"
   ]
  },
  {
   "cell_type": "code",
   "execution_count": null,
   "metadata": {},
   "outputs": [],
   "source": []
  }
 ],
 "metadata": {
  "kernelspec": {
   "display_name": "Python 3",
   "language": "python",
   "name": "python3"
  },
  "language_info": {
   "codemirror_mode": {
    "name": "ipython",
    "version": 3
   },
   "file_extension": ".py",
   "mimetype": "text/x-python",
   "name": "python",
   "nbconvert_exporter": "python",
   "pygments_lexer": "ipython3",
   "version": "3.7.1"
  }
 },
 "nbformat": 4,
 "nbformat_minor": 2
}
