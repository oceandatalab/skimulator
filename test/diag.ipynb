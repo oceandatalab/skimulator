{
 "cells": [
  {
   "cell_type": "code",
   "execution_count": null,
   "metadata": {},
   "outputs": [],
   "source": [
    "import numpy\n",
    "import mod_diag\n",
    "import params as p\n",
    "import glob\n",
    "import os\n",
    "import matplotlib\n",
    "%matplotlib inline"
   ]
  },
  {
   "cell_type": "code",
   "execution_count": null,
   "metadata": {},
   "outputs": [],
   "source": [
    "indatadir = p.outdatadir\n",
    "config = p.config\n",
    "modelbox = p.modelbox\n",
    "filesgrid = os.path.join(indatadir, '{}_grid'.format(config))\n",
    "listfile = glob.glob('{}*.nc'.format(filesgrid))\n",
    "files = os.path.join(indatadir, '{}_c01'.format(config))\n",
    "listfiles = glob.glob('{}*.nc'.format(files))\n",
    "listfiles = sorted(listfiles)\n",
    "output =  os.path.join(indatadir, 'Grid_{}.png'.format(config))\n",
    "output2 =  os.path.join(indatadir, 'c_{}.png'.format(config))\n",
    "print(p.config)"
   ]
  },
  {
   "cell_type": "code",
   "execution_count": null,
   "metadata": {},
   "outputs": [],
   "source": [
    "#listfiles.remove('/tmp/key/data/skim_eq_output/WW3_EQ_metop_2018_8a_c01_p022.nc')\n",
    "#listfiles.remove('/tmp/key/data/skim_at_output/WW3_AT_metop_2018_8a_c01_p256.nc')\n",
    "mod_diag.diag_rms(listfiles[:], modelbox, output)"
   ]
  },
  {
   "cell_type": "code",
   "execution_count": null,
   "metadata": {},
   "outputs": [],
   "source": []
  },
  {
   "cell_type": "code",
   "execution_count": null,
   "metadata": {},
   "outputs": [],
   "source": []
  },
  {
   "cell_type": "code",
   "execution_count": null,
   "metadata": {},
   "outputs": [],
   "source": []
  },
  {
   "cell_type": "code",
   "execution_count": null,
   "metadata": {},
   "outputs": [],
   "source": []
  },
  {
   "cell_type": "code",
   "execution_count": null,
   "metadata": {},
   "outputs": [],
   "source": []
  },
  {
   "cell_type": "code",
   "execution_count": null,
   "metadata": {},
   "outputs": [],
   "source": []
  }
 ],
 "metadata": {
  "kernelspec": {
   "display_name": "Python 3",
   "language": "python",
   "name": "python3"
  },
  "language_info": {
   "codemirror_mode": {
    "name": "ipython",
    "version": 3
   },
   "file_extension": ".py",
   "mimetype": "text/x-python",
   "name": "python",
   "nbconvert_exporter": "python",
   "pygments_lexer": "ipython3",
   "version": "3.7.2"
  }
 },
 "nbformat": 4,
 "nbformat_minor": 2
}
