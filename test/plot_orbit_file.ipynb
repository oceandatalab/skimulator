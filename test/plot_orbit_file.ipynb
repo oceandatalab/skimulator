{
 "cells": [
  {
   "cell_type": "code",
   "execution_count": null,
   "metadata": {},
   "outputs": [],
   "source": [
    "import numpy\n",
    "import matplotlib\n",
    "%matplotlib inline\n",
    "from matplotlib import pyplot\n",
    "import cartopy"
   ]
  },
  {
   "cell_type": "code",
   "execution_count": null,
   "metadata": {},
   "outputs": [],
   "source": [
    "orb = 'skim8d'\n",
    "lon, lat, time = numpy.loadtxt('/home/lgaultier/orb{}.txt'.format(orb), usecols=(0, 1, 2), unpack=True)"
   ]
  },
  {
   "cell_type": "code",
   "execution_count": null,
   "metadata": {},
   "outputs": [],
   "source": [
    "modelbox = None\n",
    "pyplot.figure(figsize=(20, 20))\n",
    "projection = cartopy.crs.PlateCarree()\n",
    "transform = cartopy.crs.PlateCarree()\n",
    "r = 4\n",
    "fig = pyplot.figure(figsize=(20,10))\n",
    "ax = pyplot.axes(projection=projection)\n",
    "if modelbox is not None:\n",
    "    ax.set_extent([modelbox[0], modelbox[1],  modelbox[2], modelbox[3]],\n",
    "                      crs=transform)\n",
    "    norder = 15\n",
    "else:\n",
    "    ax.set_global()\n",
    "    norder = 1\n",
    "    #ax.add_feature(cartopy.feature.OCEAN, zorder=norder)\n",
    "ax.add_feature(cartopy.feature.LAND, zorder=norder, edgecolor='black', alpha=0.5)\n",
    "gl = ax.gridlines(crs=transform, draw_labels=True, color='gray',\n",
    "                   linestyle='--', alpha=0.5)\n",
    "gl.xlabels_top = False\n",
    "gl.ylabels_left = False\n",
    "nday = 3\n",
    "pyplot.scatter(lon[time<nday], lat[time<nday], c=time[time<nday], s=11, transform=transform)\n",
    "pyplot.colorbar(label='days')\n",
    "pyplot.savefig('orb{}.png'.format(orb))"
   ]
  },
  {
   "cell_type": "code",
   "execution_count": null,
   "metadata": {},
   "outputs": [],
   "source": []
  }
 ],
 "metadata": {
  "kernelspec": {
   "display_name": "Python 3",
   "language": "python",
   "name": "python3"
  },
  "language_info": {
   "codemirror_mode": {
    "name": "ipython",
    "version": 3
   },
   "file_extension": ".py",
   "mimetype": "text/x-python",
   "name": "python",
   "nbconvert_exporter": "python",
   "pygments_lexer": "ipython3",
   "version": "3.7.1"
  }
 },
 "nbformat": 4,
 "nbformat_minor": 2
}
