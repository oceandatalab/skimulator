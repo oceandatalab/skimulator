{
 "cells": [
  {
   "cell_type": "code",
   "execution_count": null,
   "metadata": {},
   "outputs": [],
   "source": [
    "import matplotlib\n",
    "%matplotlib inline\n",
    "import netCDF4\n",
    "import cartopy\n",
    "\n",
    "import numpy\n",
    "from matplotlib import pyplot"
   ]
  },
  {
   "cell_type": "code",
   "execution_count": null,
   "metadata": {},
   "outputs": [],
   "source": [
    "config = 'WW3_AT_metop_2018_8a'\n",
    "data = netCDF4.Dataset('/tmp/key/data/skim_at_output/{}/{}_c01_p127.nc'.format(config, config))\n",
    "#data = netCDF4.Dataset('/tmp/key/data/skim_at_output/WW3_AT_metop_2018_8a_c01_p299.nc')\n",
    "#data = netCDF4.Dataset('/mnt/data/project/skim/skim_output/natl60/WW3_23Wtest_8b60az_c01_p011.nc')\n",
    "lon = numpy.mod(data['lon'][:] +180, 360) -180\n",
    "lat = data['lat'][:]\n",
    "lon_nadir = numpy.mod(data['lon_nadir'][:] +180, 360) -180\n",
    "lat_nadir = data['lat_nadir'][:]\n",
    "#var1 = data['ucur'][:]\n",
    "#var2 = data['vcur'][:]\n",
    "#var = numpy.sqrt(var1**2 + var2**2)\n",
    "var = data['ssh_true_nadir'][:]\n",
    "\n",
    "#x_ac = data['x_ac'][:]\n",
    "#x_al = data['x_al'][:]\n",
    "modelbox = (numpy.min(lon), numpy.max(lon), numpy.min(lat), numpy.max(lat))\n",
    "print(data.variables.keys())\n",
    "data.close()"
   ]
  },
  {
   "cell_type": "code",
   "execution_count": null,
   "metadata": {},
   "outputs": [],
   "source": [
    "projection = cartopy.crs.PlateCarree()\n",
    "transform = cartopy.crs.PlateCarree()\n",
    "modelbox = [-64.5, -59, 34, 36]\n",
    "fig = pyplot.figure(figsize=(12,12))\n",
    "ax = pyplot.axes(projection=projection)\n",
    "if modelbox is not None:\n",
    "    ax.set_extent([modelbox[0], modelbox[1],  modelbox[2], modelbox[3]],\n",
    "                     crs=transform)\n",
    "    norder = 6\n",
    "else:\n",
    "    ax.set_global()\n",
    "    norder = 1\n",
    "    #ax.add_feature(cartopy.feature.OCEAN, zorder=norder)\n",
    "ax.add_feature(cartopy.feature.LAND, zorder=norder, edgecolor='black')\n",
    "gl = ax.gridlines(crs=transform, draw_labels=True, color='gray',\n",
    "                   linestyle='--', alpha=0.5)\n",
    "gl.xlabels_top = False\n",
    "gl.ylabels_left = False\n",
    "listcolor = ['c', 'y', 'b', 'g', 'k', 'r', 'c', 'y']\n",
    "#listcolor = ['c', 'y', 'b', 'r', 'c', 'y']\n",
    "\n",
    "for i in range(numpy.shape(lon)[1]):\n",
    "    pyplot.scatter(lon[:, i], lat[:, i], c=listcolor[i]) #, c=var[:, i]) #, vmin=-150, vmax=150, cmap='jet')\n",
    "pyplot.colorbar()\n",
    "pyplot.savefig('{}_beams.png'.format(config))"
   ]
  },
  {
   "cell_type": "code",
   "execution_count": null,
   "metadata": {},
   "outputs": [],
   "source": []
  },
  {
   "cell_type": "code",
   "execution_count": null,
   "metadata": {},
   "outputs": [],
   "source": []
  },
  {
   "cell_type": "code",
   "execution_count": null,
   "metadata": {},
   "outputs": [],
   "source": []
  },
  {
   "cell_type": "code",
   "execution_count": null,
   "metadata": {},
   "outputs": [],
   "source": []
  },
  {
   "cell_type": "code",
   "execution_count": null,
   "metadata": {},
   "outputs": [],
   "source": []
  },
  {
   "cell_type": "code",
   "execution_count": null,
   "metadata": {},
   "outputs": [],
   "source": []
  }
 ],
 "metadata": {
  "kernelspec": {
   "display_name": "Python 3",
   "language": "python",
   "name": "python3"
  },
  "language_info": {
   "codemirror_mode": {
    "name": "ipython",
    "version": 3
   },
   "file_extension": ".py",
   "mimetype": "text/x-python",
   "name": "python",
   "nbconvert_exporter": "python",
   "pygments_lexer": "ipython3",
   "version": "3.7.1"
  }
 },
 "nbformat": 4,
 "nbformat_minor": 2
}
