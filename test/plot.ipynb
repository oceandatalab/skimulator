{
 "cells": [
  {
   "cell_type": "code",
   "execution_count": null,
   "metadata": {},
   "outputs": [],
   "source": [
    "import numpy\n",
    "import mod_plot\n",
    "import params as p\n",
    "import glob\n",
    "import os\n",
    "import matplotlib\n",
    "%matplotlib inline"
   ]
  },
  {
   "cell_type": "code",
   "execution_count": null,
   "metadata": {},
   "outputs": [],
   "source": [
    "indatadir = p.outdatadir\n",
    "config = p.config\n",
    "modelbox = p.modelbox\n",
    "#modelbox = [-5, 5, 75, 85]\n",
    "modelbox = [330, 340, -8, 8]\n",
    "modelbox = [275., 305, 30, 45]\n",
    "modelbox[0] = numpy.mod(modelbox[0] + 180.0, 360.0) - 180.0\n",
    "modelbox[1] = numpy.mod(modelbox[1] + 180.0, 360.0) - 180.0\n",
    "filesgrid = os.path.join(indatadir, '{}_grid'.format(config))\n",
    "listfile = glob.glob('{}*.nc'.format(filesgrid))\n",
    "files = os.path.join(indatadir, '{}_c'.format(config))\n",
    "listfiles = glob.glob('{}*.nc'.format(files))\n",
    "listfiles = sorted(listfiles)\n",
    "output =  os.path.join(indatadir, 'Grid_{}.png'.format(config))\n",
    "output2 =  os.path.join(indatadir, 'c_{}.png'.format(config))\n",
    "print(config)"
   ]
  },
  {
   "cell_type": "code",
   "execution_count": null,
   "metadata": {},
   "outputs": [],
   "source": [
    "# Plot all Grids:\n",
    "\n",
    "# Plot first 6 passes\"\n",
    "listfile = sorted(listfile)\n",
    "output =  os.path.join(indatadir, 'Grid_6{}.png'.format(config))\n",
    "fig = mod_plot.plot_all(listfile[:], modelbox, output)\n"
   ]
  },
  {
   "cell_type": "code",
   "execution_count": null,
   "metadata": {},
   "outputs": [],
   "source": [
    "#listfiles.remove('/tmp/key/data/skim_at_output/WW3_AT_metop_2018_8a_c01_p256.nc')\n",
    "fig = mod_plot.plot_variable(listfiles[::1], 'ur_true', modelbox, output)"
   ]
  },
  {
   "cell_type": "code",
   "execution_count": null,
   "metadata": {},
   "outputs": [],
   "source": [
    "fig = mod_plot.plot_variable(listfiles[::1], 'ucur', modelbox, output)"
   ]
  },
  {
   "cell_type": "code",
   "execution_count": null,
   "metadata": {},
   "outputs": [],
   "source": [
    "fig = mod_plot.plot_variable(listfiles[::1], 'ur_obs', modelbox, output)"
   ]
  },
  {
   "cell_type": "code",
   "execution_count": null,
   "metadata": {},
   "outputs": [],
   "source": [
    "modelbox = [295, 300, 34, 39]\n",
    "fig = mod_plot.plot_vectors(listfiles[:10], 'ur_obs', modelbox, output, scale=7)\n"
   ]
  },
  {
   "cell_type": "code",
   "execution_count": null,
   "metadata": {},
   "outputs": [],
   "source": [
    "#modelbox = [-28, -24, -8,-4]\n",
    "fig = mod_plot.plot_vectors(listfiles[:10], 'ur_true', modelbox, output, scale=7)"
   ]
  },
  {
   "cell_type": "code",
   "execution_count": null,
   "metadata": {},
   "outputs": [],
   "source": []
  }
 ],
 "metadata": {
  "kernelspec": {
   "display_name": "Python 3",
   "language": "python",
   "name": "python3"
  },
  "language_info": {
   "codemirror_mode": {
    "name": "ipython",
    "version": 3
   },
   "file_extension": ".py",
   "mimetype": "text/x-python",
   "name": "python",
   "nbconvert_exporter": "python",
   "pygments_lexer": "ipython3",
   "version": "3.7.1"
  }
 },
 "nbformat": 4,
 "nbformat_minor": 2
}
